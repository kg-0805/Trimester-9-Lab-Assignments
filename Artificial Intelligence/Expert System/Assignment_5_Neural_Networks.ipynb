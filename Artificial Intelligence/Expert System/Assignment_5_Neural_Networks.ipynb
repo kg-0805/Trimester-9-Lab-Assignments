{
  "nbformat": 4,
  "nbformat_minor": 0,
  "metadata": {
    "kernelspec": {
      "display_name": "Python 3",
      "language": "python",
      "name": "python3"
    },
    "language_info": {
      "codemirror_mode": {
        "name": "ipython",
        "version": 3
      },
      "file_extension": ".py",
      "mimetype": "text/x-python",
      "name": "python",
      "nbconvert_exporter": "python",
      "pygments_lexer": "ipython3",
      "version": "3.8.3"
    },
    "colab": {
      "name": "Assignment 5 - Neural Networks.ipynb",
      "provenance": [],
      "toc_visible": true
    },
    "accelerator": "GPU"
  },
  "cells": [
    {
      "cell_type": "markdown",
      "metadata": {
        "id": "t8GdR1-ZoCml",
        "colab_type": "text"
      },
      "source": [
        "## Neural Networks with Tensorflow and Esitmator API\n",
        "- Kartik Gupta\n",
        "- PB40\n",
        "- TY CSE - Panel B"
      ]
    },
    {
      "cell_type": "code",
      "metadata": {
        "id": "XuEBEXtGoCmm",
        "colab_type": "code",
        "colab": {}
      },
      "source": [
        "import os\n",
        "#Setting the device to CPU\n",
        "os.environ['CUDA_VISIBLE_DEVICES'] = '-1'\n",
        "\n",
        "#Importing the libraries\n",
        "import tensorflow as tf\n",
        "import numpy as np\n",
        "import pandas as pd"
      ],
      "execution_count": 1,
      "outputs": []
    },
    {
      "cell_type": "code",
      "metadata": {
        "id": "Ct-L_VU_oCmx",
        "colab_type": "code",
        "colab": {}
      },
      "source": [
        "#Importing the dataset\n",
        "dataset = pd.read_csv('census_data.csv')"
      ],
      "execution_count": 2,
      "outputs": []
    },
    {
      "cell_type": "code",
      "metadata": {
        "id": "T2IysgJ2oCm2",
        "colab_type": "code",
        "colab": {}
      },
      "source": [
        "#Extracting and processing the lables\n",
        "Y = dataset['income_bracket']\n",
        "Y = Y.apply(lambda x: 0 if x == \" <=50K\" else 1)\n",
        "#Getting the attributes\n",
        "X = dataset.drop('income_bracket',axis = 1)\n",
        "#Scaling the values [Min-Max scaling]\n",
        "to_scale = ['capital_gain',\n",
        "       'capital_loss', 'hours_per_week','education_num']\n",
        "X[to_scale] = X[to_scale].apply(lambda x : (x-x.min())/(x.max()-x.min()))"
      ],
      "execution_count": 3,
      "outputs": []
    },
    {
      "cell_type": "code",
      "metadata": {
        "id": "MzXdkltPoCm9",
        "colab_type": "code",
        "colab": {
          "base_uri": "https://localhost:8080/",
          "height": 292
        },
        "outputId": "f8dd58cd-7ffb-4d41-b2a2-12c48bf69b52"
      },
      "source": [
        "X.head()"
      ],
      "execution_count": 4,
      "outputs": [
        {
          "output_type": "execute_result",
          "data": {
            "text/html": [
              "<div>\n",
              "<style scoped>\n",
              "    .dataframe tbody tr th:only-of-type {\n",
              "        vertical-align: middle;\n",
              "    }\n",
              "\n",
              "    .dataframe tbody tr th {\n",
              "        vertical-align: top;\n",
              "    }\n",
              "\n",
              "    .dataframe thead th {\n",
              "        text-align: right;\n",
              "    }\n",
              "</style>\n",
              "<table border=\"1\" class=\"dataframe\">\n",
              "  <thead>\n",
              "    <tr style=\"text-align: right;\">\n",
              "      <th></th>\n",
              "      <th>age</th>\n",
              "      <th>workclass</th>\n",
              "      <th>education</th>\n",
              "      <th>education_num</th>\n",
              "      <th>marital_status</th>\n",
              "      <th>occupation</th>\n",
              "      <th>relationship</th>\n",
              "      <th>race</th>\n",
              "      <th>gender</th>\n",
              "      <th>capital_gain</th>\n",
              "      <th>capital_loss</th>\n",
              "      <th>hours_per_week</th>\n",
              "      <th>native_country</th>\n",
              "    </tr>\n",
              "  </thead>\n",
              "  <tbody>\n",
              "    <tr>\n",
              "      <th>0</th>\n",
              "      <td>39</td>\n",
              "      <td>State-gov</td>\n",
              "      <td>Bachelors</td>\n",
              "      <td>0.800000</td>\n",
              "      <td>Never-married</td>\n",
              "      <td>Adm-clerical</td>\n",
              "      <td>Not-in-family</td>\n",
              "      <td>White</td>\n",
              "      <td>Male</td>\n",
              "      <td>0.02174</td>\n",
              "      <td>0.0</td>\n",
              "      <td>0.397959</td>\n",
              "      <td>United-States</td>\n",
              "    </tr>\n",
              "    <tr>\n",
              "      <th>1</th>\n",
              "      <td>50</td>\n",
              "      <td>Self-emp-not-inc</td>\n",
              "      <td>Bachelors</td>\n",
              "      <td>0.800000</td>\n",
              "      <td>Married-civ-spouse</td>\n",
              "      <td>Exec-managerial</td>\n",
              "      <td>Husband</td>\n",
              "      <td>White</td>\n",
              "      <td>Male</td>\n",
              "      <td>0.00000</td>\n",
              "      <td>0.0</td>\n",
              "      <td>0.122449</td>\n",
              "      <td>United-States</td>\n",
              "    </tr>\n",
              "    <tr>\n",
              "      <th>2</th>\n",
              "      <td>38</td>\n",
              "      <td>Private</td>\n",
              "      <td>HS-grad</td>\n",
              "      <td>0.533333</td>\n",
              "      <td>Divorced</td>\n",
              "      <td>Handlers-cleaners</td>\n",
              "      <td>Not-in-family</td>\n",
              "      <td>White</td>\n",
              "      <td>Male</td>\n",
              "      <td>0.00000</td>\n",
              "      <td>0.0</td>\n",
              "      <td>0.397959</td>\n",
              "      <td>United-States</td>\n",
              "    </tr>\n",
              "    <tr>\n",
              "      <th>3</th>\n",
              "      <td>53</td>\n",
              "      <td>Private</td>\n",
              "      <td>11th</td>\n",
              "      <td>0.400000</td>\n",
              "      <td>Married-civ-spouse</td>\n",
              "      <td>Handlers-cleaners</td>\n",
              "      <td>Husband</td>\n",
              "      <td>Black</td>\n",
              "      <td>Male</td>\n",
              "      <td>0.00000</td>\n",
              "      <td>0.0</td>\n",
              "      <td>0.397959</td>\n",
              "      <td>United-States</td>\n",
              "    </tr>\n",
              "    <tr>\n",
              "      <th>4</th>\n",
              "      <td>28</td>\n",
              "      <td>Private</td>\n",
              "      <td>Bachelors</td>\n",
              "      <td>0.800000</td>\n",
              "      <td>Married-civ-spouse</td>\n",
              "      <td>Prof-specialty</td>\n",
              "      <td>Wife</td>\n",
              "      <td>Black</td>\n",
              "      <td>Female</td>\n",
              "      <td>0.00000</td>\n",
              "      <td>0.0</td>\n",
              "      <td>0.397959</td>\n",
              "      <td>Cuba</td>\n",
              "    </tr>\n",
              "  </tbody>\n",
              "</table>\n",
              "</div>"
            ],
            "text/plain": [
              "   age          workclass  ... hours_per_week  native_country\n",
              "0   39          State-gov  ...       0.397959   United-States\n",
              "1   50   Self-emp-not-inc  ...       0.122449   United-States\n",
              "2   38            Private  ...       0.397959   United-States\n",
              "3   53            Private  ...       0.397959   United-States\n",
              "4   28            Private  ...       0.397959            Cuba\n",
              "\n",
              "[5 rows x 13 columns]"
            ]
          },
          "metadata": {
            "tags": []
          },
          "execution_count": 4
        }
      ]
    },
    {
      "cell_type": "code",
      "metadata": {
        "id": "vP4gOeEDoCnB",
        "colab_type": "code",
        "colab": {}
      },
      "source": [
        "#Feature columns for categorical data\n",
        "workc = tf.feature_column.embedding_column(tf.feature_column.categorical_column_with_hash_bucket('workclass',hash_bucket_size=10), dimension=9)\n",
        "educ = tf.feature_column.embedding_column((tf.feature_column.categorical_column_with_hash_bucket('education',hash_bucket_size=10)),dimension=16)\n",
        "marital = tf.feature_column.embedding_column(tf.feature_column.categorical_column_with_hash_bucket('marital_status',hash_bucket_size=10),dimension=7)\n",
        "race = tf.feature_column.embedding_column(tf.feature_column.categorical_column_with_hash_bucket('race',hash_bucket_size=10),dimension=5)\n",
        "gender = tf.feature_column.embedding_column(tf.feature_column.categorical_column_with_hash_bucket('gender',hash_bucket_size=2),dimension=2)\n",
        "country = tf.feature_column.embedding_column(tf.feature_column.categorical_column_with_hash_bucket('native_country',hash_bucket_size=50),dimension=42)"
      ],
      "execution_count": 5,
      "outputs": []
    },
    {
      "cell_type": "code",
      "metadata": {
        "id": "pdXtd0PyoCnG",
        "colab_type": "code",
        "colab": {}
      },
      "source": [
        "import matplotlib.pyplot as plt\n",
        "%matplotlib inline"
      ],
      "execution_count": 6,
      "outputs": []
    },
    {
      "cell_type": "code",
      "metadata": {
        "id": "wqhZwK7boCnL",
        "colab_type": "code",
        "colab": {
          "base_uri": "https://localhost:8080/",
          "height": 315
        },
        "outputId": "5c77eb5f-ddb0-48f0-c983-898d5e4accc0"
      },
      "source": [
        "dataset.hist(column='age')"
      ],
      "execution_count": 7,
      "outputs": [
        {
          "output_type": "execute_result",
          "data": {
            "text/plain": [
              "array([[<matplotlib.axes._subplots.AxesSubplot object at 0x7f7924826710>]],\n",
              "      dtype=object)"
            ]
          },
          "metadata": {
            "tags": []
          },
          "execution_count": 7
        },
        {
          "output_type": "display_data",
          "data": {
            "image/png": "[encoded data removed]",
            "text/plain": [
              "<Figure size 432x288 with 1 Axes>"
            ]
          },
          "metadata": {
            "tags": [],
            "needs_background": "light"
          }
        }
      ]
    },
    {
      "cell_type": "code",
      "metadata": {
        "id": "i4WwrpjeoCnS",
        "colab_type": "code",
        "colab": {}
      },
      "source": [
        "#Bins for age to convert them to categorical data\n",
        "age = tf.feature_column.bucketized_column(tf.feature_column.numeric_column('age'),boundaries=[20,30,40,50,60,70,80,90])"
      ],
      "execution_count": 8,
      "outputs": []
    },
    {
      "cell_type": "code",
      "metadata": {
        "id": "q5Mb8nQQoCna",
        "colab_type": "code",
        "colab": {}
      },
      "source": [
        "#making numeric columns\n",
        "cap_gain = tf.feature_column.numeric_column('capital_gain')\n",
        "cap_loss = tf.feature_column.numeric_column('capital_loss')\n",
        "hrs = tf.feature_column.numeric_column('hours_per_week')\n",
        "edu_num = tf.feature_column.numeric_column('education_num')"
      ],
      "execution_count": 9,
      "outputs": []
    },
    {
      "cell_type": "code",
      "metadata": {
        "id": "glHpRTrboCnh",
        "colab_type": "code",
        "colab": {}
      },
      "source": [
        "fea_col = [cap_gain,cap_loss,hrs,age,workc,educ,marital,race,gender,country,edu_num]"
      ],
      "execution_count": 10,
      "outputs": []
    },
    {
      "cell_type": "code",
      "metadata": {
        "id": "0dABzQTBoCnn",
        "colab_type": "code",
        "colab": {}
      },
      "source": [
        "#Creating the training and testing dataset\n",
        "from sklearn.model_selection import train_test_split\n",
        "X_train,X_test,Y_train,Y_test = train_test_split(X,Y,test_size=0.3,random_state = 101)"
      ],
      "execution_count": 11,
      "outputs": []
    },
    {
      "cell_type": "code",
      "metadata": {
        "id": "90tB0_k3oCns",
        "colab_type": "code",
        "colab": {
          "base_uri": "https://localhost:8080/",
          "height": 190
        },
        "outputId": "69ec4728-5f47-4522-cf5a-fbc9dd823dd1"
      },
      "source": [
        "#Getting the neural network model from estimator API\n",
        "model = tf.estimator.DNNClassifier(hidden_units=[10,10,10,10],feature_columns=fea_col)"
      ],
      "execution_count": 12,
      "outputs": [
        {
          "output_type": "stream",
          "text": [
            "INFO:tensorflow:Using default config.\n",
            "WARNING:tensorflow:Using temporary folder as model directory: /tmp/tmpqiz_9bu7\n",
            "INFO:tensorflow:Using config: {'_model_dir': '/tmp/tmpqiz_9bu7', '_tf_random_seed': None, '_save_summary_steps': 100, '_save_checkpoints_steps': None, '_save_checkpoints_secs': 600, '_session_config': allow_soft_placement: true\n",
            "graph_options {\n",
            "  rewrite_options {\n",
            "    meta_optimizer_iterations: ONE\n",
            "  }\n",
            "}\n",
            ", '_keep_checkpoint_max': 5, '_keep_checkpoint_every_n_hours': 10000, '_log_step_count_steps': 100, '_train_distribute': None, '_device_fn': None, '_protocol': None, '_eval_distribute': None, '_experimental_distribute': None, '_experimental_max_worker_delay_secs': None, '_session_creation_timeout_secs': 7200, '_service': None, '_cluster_spec': ClusterSpec({}), '_task_type': 'worker', '_task_id': 0, '_global_id_in_cluster': 0, '_master': '', '_evaluation_master': '', '_is_chief': True, '_num_ps_replicas': 0, '_num_worker_replicas': 1}\n"
          ],
          "name": "stdout"
        }
      ]
    },
    {
      "cell_type": "code",
      "metadata": {
        "id": "QjekSiyXoCnz",
        "colab_type": "code",
        "colab": {
          "base_uri": "https://localhost:8080/",
          "height": 71
        },
        "outputId": "7f6bebfe-45b5-4ec7-fa5a-e40bfaebe0e2"
      },
      "source": [
        "#Setting the input to the estimator API\n",
        "input_f = tf.compat.v1.estimator.inputs.pandas_input_fn(x=X_train,y=Y_train,shuffle=True,batch_size=10,num_epochs=100)"
      ],
      "execution_count": 13,
      "outputs": [
        {
          "output_type": "stream",
          "text": [
            "WARNING:tensorflow:From /usr/local/lib/python3.6/dist-packages/tensorflow/python/util/lazy_loader.py:63: The name tf.estimator.inputs is deprecated. Please use tf.compat.v1.estimator.inputs instead.\n",
            "\n"
          ],
          "name": "stdout"
        }
      ]
    },
    {
      "cell_type": "code",
      "metadata": {
        "scrolled": true,
        "id": "qSnMlLnZoCn2",
        "colab_type": "code",
        "colab": {
          "base_uri": "https://localhost:8080/",
          "height": 1000
        },
        "outputId": "c5e89cb3-2448-469e-c2f3-d2da651596aa"
      },
      "source": [
        "#Training the model\n",
        "model.train(input_fn=input_f,steps=10000)"
      ],
      "execution_count": 14,
      "outputs": [
        {
          "output_type": "stream",
          "text": [
            "WARNING:tensorflow:From /usr/local/lib/python3.6/dist-packages/tensorflow/python/training/training_util.py:236: Variable.initialized_value (from tensorflow.python.ops.variables) is deprecated and will be removed in a future version.\n",
            "Instructions for updating:\n",
            "Use Variable.read_value. Variables in 2.X are initialized automatically both in eager and graph (inside tf.defun) contexts.\n",
            "WARNING:tensorflow:From /usr/local/lib/python3.6/dist-packages/tensorflow_estimator/python/estimator/inputs/queues/feeding_queue_runner.py:65: QueueRunner.__init__ (from tensorflow.python.training.queue_runner_impl) is deprecated and will be removed in a future version.\n",
            "Instructions for updating:\n",
            "To construct input pipelines, use the `tf.data` module.\n",
            "WARNING:tensorflow:From /usr/local/lib/python3.6/dist-packages/tensorflow_estimator/python/estimator/inputs/queues/feeding_functions.py:491: add_queue_runner (from tensorflow.python.training.queue_runner_impl) is deprecated and will be removed in a future version.\n",
            "Instructions for updating:\n",
            "To construct input pipelines, use the `tf.data` module.\n",
            "INFO:tensorflow:Calling model_fn.\n",
            "WARNING:tensorflow:Layer dnn is casting an input tensor from dtype float64 to the layer's dtype of float32, which is new behavior in TensorFlow 2.  The layer has dtype float32 because its dtype defaults to floatx.\n",
            "\n",
            "If you intended to run this layer in float32, you can safely ignore this warning. If in doubt, this warning is likely only an issue if you are porting a TensorFlow 1.X model to TensorFlow 2.\n",
            "\n",
            "To change all layers to have dtype float64 by default, call `tf.keras.backend.set_floatx('float64')`. To change just this layer, pass dtype='float64' to the layer constructor. If you are the author of this layer, you can disable autocasting by passing autocast=False to the base Layer constructor.\n",
            "\n",
            "WARNING:tensorflow:From /usr/local/lib/python3.6/dist-packages/tensorflow/python/keras/optimizer_v2/adagrad.py:83: calling Constant.__init__ (from tensorflow.python.ops.init_ops) with dtype is deprecated and will be removed in a future version.\n",
            "Instructions for updating:\n",
            "Call initializer instance with the dtype argument instead of passing it to the constructor\n",
            "INFO:tensorflow:Done calling model_fn.\n",
            "INFO:tensorflow:Create CheckpointSaverHook.\n",
            "INFO:tensorflow:Graph was finalized.\n",
            "INFO:tensorflow:Running local_init_op.\n",
            "INFO:tensorflow:Done running local_init_op.\n",
            "WARNING:tensorflow:From /usr/local/lib/python3.6/dist-packages/tensorflow/python/training/monitored_session.py:906: start_queue_runners (from tensorflow.python.training.queue_runner_impl) is deprecated and will be removed in a future version.\n",
            "Instructions for updating:\n",
            "To construct input pipelines, use the `tf.data` module.\n",
            "INFO:tensorflow:Calling checkpoint listeners before saving checkpoint 0...\n",
            "INFO:tensorflow:Saving checkpoints for 0 into /tmp/tmpqiz_9bu7/model.ckpt.\n",
            "INFO:tensorflow:Calling checkpoint listeners after saving checkpoint 0...\n",
            "INFO:tensorflow:loss = 0.6821238, step = 0\n",
            "INFO:tensorflow:global_step/sec: 280.885\n",
            "INFO:tensorflow:loss = 0.6792639, step = 100 (0.358 sec)\n",
            "WARNING:tensorflow:It seems that global step (tf.train.get_global_step) has not been increased. Current value (could be stable): 132 vs previous value: 132. You could increase the global step by passing tf.train.get_global_step() to Optimizer.apply_gradients or Optimizer.minimize.\n",
            "INFO:tensorflow:global_step/sec: 440.768\n",
            "INFO:tensorflow:loss = 0.6553997, step = 200 (0.229 sec)\n",
            "INFO:tensorflow:global_step/sec: 357.094\n",
            "INFO:tensorflow:loss = 0.70202696, step = 300 (0.279 sec)\n",
            "INFO:tensorflow:global_step/sec: 355.574\n",
            "INFO:tensorflow:loss = 0.5462366, step = 400 (0.280 sec)\n",
            "INFO:tensorflow:global_step/sec: 342.263\n",
            "INFO:tensorflow:loss = 0.61984146, step = 500 (0.294 sec)\n",
            "INFO:tensorflow:global_step/sec: 343.881\n",
            "INFO:tensorflow:loss = 0.4946474, step = 600 (0.291 sec)\n",
            "INFO:tensorflow:global_step/sec: 343.78\n",
            "INFO:tensorflow:loss = 0.507208, step = 700 (0.290 sec)\n",
            "INFO:tensorflow:global_step/sec: 364.103\n",
            "INFO:tensorflow:loss = 0.5608883, step = 800 (0.273 sec)\n",
            "INFO:tensorflow:global_step/sec: 362.008\n",
            "INFO:tensorflow:loss = 0.81805384, step = 900 (0.276 sec)\n",
            "WARNING:tensorflow:It seems that global step (tf.train.get_global_step) has not been increased. Current value (could be stable): 990 vs previous value: 990. You could increase the global step by passing tf.train.get_global_step() to Optimizer.apply_gradients or Optimizer.minimize.\n",
            "INFO:tensorflow:global_step/sec: 336.944\n",
            "INFO:tensorflow:loss = 0.48621446, step = 1000 (0.302 sec)\n",
            "INFO:tensorflow:global_step/sec: 363.183\n",
            "INFO:tensorflow:loss = 0.60590017, step = 1100 (0.276 sec)\n",
            "INFO:tensorflow:global_step/sec: 359.543\n",
            "INFO:tensorflow:loss = 0.60269153, step = 1200 (0.273 sec)\n",
            "INFO:tensorflow:global_step/sec: 350.923\n",
            "INFO:tensorflow:loss = 0.7328447, step = 1300 (0.284 sec)\n",
            "INFO:tensorflow:global_step/sec: 335.587\n",
            "INFO:tensorflow:loss = 0.52738476, step = 1400 (0.304 sec)\n",
            "INFO:tensorflow:global_step/sec: 362.531\n",
            "INFO:tensorflow:loss = 0.52201, step = 1500 (0.271 sec)\n",
            "INFO:tensorflow:global_step/sec: 369.057\n",
            "INFO:tensorflow:loss = 0.31435722, step = 1600 (0.270 sec)\n",
            "INFO:tensorflow:global_step/sec: 353.231\n",
            "INFO:tensorflow:loss = 0.6659889, step = 1700 (0.286 sec)\n",
            "INFO:tensorflow:global_step/sec: 340.645\n",
            "INFO:tensorflow:loss = 0.4355297, step = 1800 (0.297 sec)\n",
            "INFO:tensorflow:global_step/sec: 357.245\n",
            "INFO:tensorflow:loss = 0.58258784, step = 1900 (0.277 sec)\n",
            "INFO:tensorflow:global_step/sec: 361.938\n",
            "INFO:tensorflow:loss = 0.56379426, step = 2000 (0.280 sec)\n",
            "INFO:tensorflow:global_step/sec: 348.026\n",
            "INFO:tensorflow:loss = 0.27933902, step = 2100 (0.280 sec)\n",
            "INFO:tensorflow:global_step/sec: 353.753\n",
            "INFO:tensorflow:loss = 0.43179226, step = 2200 (0.286 sec)\n",
            "INFO:tensorflow:global_step/sec: 363.141\n",
            "INFO:tensorflow:loss = 0.5570668, step = 2300 (0.271 sec)\n",
            "INFO:tensorflow:global_step/sec: 360.466\n",
            "INFO:tensorflow:loss = 0.3808104, step = 2400 (0.277 sec)\n",
            "INFO:tensorflow:global_step/sec: 363.604\n",
            "INFO:tensorflow:loss = 0.58280295, step = 2500 (0.280 sec)\n",
            "INFO:tensorflow:global_step/sec: 359.357\n",
            "INFO:tensorflow:loss = 0.3715806, step = 2600 (0.274 sec)\n",
            "INFO:tensorflow:global_step/sec: 357.485\n",
            "INFO:tensorflow:loss = 0.77132803, step = 2700 (0.285 sec)\n",
            "WARNING:tensorflow:It seems that global step (tf.train.get_global_step) has not been increased. Current value (could be stable): 2729 vs previous value: 2729. You could increase the global step by passing tf.train.get_global_step() to Optimizer.apply_gradients or Optimizer.minimize.\n",
            "INFO:tensorflow:global_step/sec: 346.145\n",
            "INFO:tensorflow:loss = 0.26888657, step = 2800 (0.292 sec)\n",
            "INFO:tensorflow:global_step/sec: 364.138\n",
            "INFO:tensorflow:loss = 0.3668804, step = 2900 (0.266 sec)\n",
            "INFO:tensorflow:global_step/sec: 348.292\n",
            "INFO:tensorflow:loss = 0.46181816, step = 3000 (0.286 sec)\n",
            "INFO:tensorflow:global_step/sec: 365.578\n",
            "INFO:tensorflow:loss = 0.43419504, step = 3100 (0.276 sec)\n",
            "INFO:tensorflow:global_step/sec: 342.632\n",
            "INFO:tensorflow:loss = 0.4893588, step = 3200 (0.294 sec)\n",
            "INFO:tensorflow:global_step/sec: 362.599\n",
            "INFO:tensorflow:loss = 0.5891734, step = 3300 (0.273 sec)\n",
            "INFO:tensorflow:global_step/sec: 366.374\n",
            "INFO:tensorflow:loss = 0.36775023, step = 3400 (0.275 sec)\n",
            "INFO:tensorflow:global_step/sec: 363.658\n",
            "INFO:tensorflow:loss = 0.4111863, step = 3500 (0.271 sec)\n",
            "INFO:tensorflow:global_step/sec: 356.053\n",
            "INFO:tensorflow:loss = 0.33998728, step = 3600 (0.283 sec)\n",
            "INFO:tensorflow:global_step/sec: 357.995\n",
            "INFO:tensorflow:loss = 0.34954625, step = 3700 (0.279 sec)\n",
            "INFO:tensorflow:global_step/sec: 338.634\n",
            "INFO:tensorflow:loss = 0.71035933, step = 3800 (0.294 sec)\n",
            "INFO:tensorflow:global_step/sec: 351.757\n",
            "INFO:tensorflow:loss = 0.6723157, step = 3900 (0.286 sec)\n",
            "INFO:tensorflow:global_step/sec: 358.359\n",
            "INFO:tensorflow:loss = 0.62265605, step = 4000 (0.279 sec)\n",
            "INFO:tensorflow:global_step/sec: 345.842\n",
            "INFO:tensorflow:loss = 0.40347815, step = 4100 (0.287 sec)\n",
            "INFO:tensorflow:global_step/sec: 324.965\n",
            "INFO:tensorflow:loss = 0.46137953, step = 4200 (0.312 sec)\n",
            "INFO:tensorflow:global_step/sec: 333.536\n",
            "INFO:tensorflow:loss = 0.70365417, step = 4300 (0.296 sec)\n",
            "INFO:tensorflow:global_step/sec: 357.869\n",
            "INFO:tensorflow:loss = 0.586335, step = 4400 (0.281 sec)\n",
            "INFO:tensorflow:global_step/sec: 357.175\n",
            "INFO:tensorflow:loss = 0.3886755, step = 4500 (0.280 sec)\n",
            "INFO:tensorflow:global_step/sec: 340.882\n",
            "INFO:tensorflow:loss = 0.2544427, step = 4600 (0.300 sec)\n",
            "INFO:tensorflow:global_step/sec: 351.259\n",
            "INFO:tensorflow:loss = 0.4521082, step = 4700 (0.277 sec)\n",
            "INFO:tensorflow:global_step/sec: 360.232\n",
            "INFO:tensorflow:loss = 0.37031487, step = 4800 (0.278 sec)\n",
            "WARNING:tensorflow:It seems that global step (tf.train.get_global_step) has not been increased. Current value (could be stable): 4872 vs previous value: 4872. You could increase the global step by passing tf.train.get_global_step() to Optimizer.apply_gradients or Optimizer.minimize.\n",
            "INFO:tensorflow:global_step/sec: 354.073\n",
            "INFO:tensorflow:loss = 0.5420951, step = 4900 (0.284 sec)\n",
            "INFO:tensorflow:global_step/sec: 344.536\n",
            "INFO:tensorflow:loss = 0.33207136, step = 5000 (0.289 sec)\n",
            "WARNING:tensorflow:It seems that global step (tf.train.get_global_step) has not been increased. Current value (could be stable): 5035 vs previous value: 5035. You could increase the global step by passing tf.train.get_global_step() to Optimizer.apply_gradients or Optimizer.minimize.\n",
            "INFO:tensorflow:global_step/sec: 350.912\n",
            "INFO:tensorflow:loss = 0.72758216, step = 5100 (0.286 sec)\n",
            "INFO:tensorflow:global_step/sec: 367.446\n",
            "INFO:tensorflow:loss = 0.40318498, step = 5200 (0.276 sec)\n",
            "INFO:tensorflow:global_step/sec: 340.514\n",
            "INFO:tensorflow:loss = 0.37977886, step = 5300 (0.290 sec)\n",
            "INFO:tensorflow:global_step/sec: 349.967\n",
            "INFO:tensorflow:loss = 0.37268397, step = 5400 (0.288 sec)\n",
            "INFO:tensorflow:global_step/sec: 349.997\n",
            "INFO:tensorflow:loss = 0.55207956, step = 5500 (0.284 sec)\n",
            "INFO:tensorflow:global_step/sec: 360.309\n",
            "INFO:tensorflow:loss = 0.4710454, step = 5600 (0.280 sec)\n",
            "INFO:tensorflow:global_step/sec: 339.456\n",
            "INFO:tensorflow:loss = 0.398134, step = 5700 (0.293 sec)\n",
            "INFO:tensorflow:global_step/sec: 357.661\n",
            "INFO:tensorflow:loss = 0.43506688, step = 5800 (0.281 sec)\n",
            "INFO:tensorflow:global_step/sec: 365.125\n",
            "INFO:tensorflow:loss = 0.647725, step = 5900 (0.273 sec)\n",
            "INFO:tensorflow:global_step/sec: 342.733\n",
            "INFO:tensorflow:loss = 0.5863606, step = 6000 (0.293 sec)\n",
            "INFO:tensorflow:global_step/sec: 342.675\n",
            "INFO:tensorflow:loss = 0.29196548, step = 6100 (0.296 sec)\n",
            "INFO:tensorflow:global_step/sec: 355.494\n",
            "INFO:tensorflow:loss = 0.5140783, step = 6200 (0.277 sec)\n",
            "INFO:tensorflow:global_step/sec: 368.276\n",
            "INFO:tensorflow:loss = 0.62906635, step = 6300 (0.273 sec)\n",
            "INFO:tensorflow:global_step/sec: 336.245\n",
            "INFO:tensorflow:loss = 0.16369455, step = 6400 (0.295 sec)\n",
            "INFO:tensorflow:global_step/sec: 358.621\n",
            "INFO:tensorflow:loss = 0.40669075, step = 6500 (0.279 sec)\n",
            "INFO:tensorflow:global_step/sec: 363.222\n",
            "INFO:tensorflow:loss = 0.45156592, step = 6600 (0.275 sec)\n",
            "INFO:tensorflow:global_step/sec: 354.985\n",
            "INFO:tensorflow:loss = 0.55589354, step = 6700 (0.283 sec)\n",
            "INFO:tensorflow:global_step/sec: 340.351\n",
            "INFO:tensorflow:loss = 0.43994594, step = 6800 (0.293 sec)\n",
            "INFO:tensorflow:global_step/sec: 353.177\n",
            "INFO:tensorflow:loss = 0.58641005, step = 6900 (0.285 sec)\n",
            "INFO:tensorflow:global_step/sec: 368.628\n",
            "INFO:tensorflow:loss = 0.26212215, step = 7000 (0.271 sec)\n",
            "INFO:tensorflow:global_step/sec: 337.077\n",
            "INFO:tensorflow:loss = 0.67161435, step = 7100 (0.297 sec)\n",
            "INFO:tensorflow:global_step/sec: 359.875\n",
            "INFO:tensorflow:loss = 0.27438307, step = 7200 (0.285 sec)\n",
            "INFO:tensorflow:global_step/sec: 348.752\n",
            "INFO:tensorflow:loss = 0.506986, step = 7300 (0.277 sec)\n",
            "INFO:tensorflow:global_step/sec: 342.069\n",
            "INFO:tensorflow:loss = 0.4553843, step = 7400 (0.296 sec)\n",
            "INFO:tensorflow:global_step/sec: 344.711\n",
            "INFO:tensorflow:loss = 0.69099534, step = 7500 (0.291 sec)\n",
            "INFO:tensorflow:global_step/sec: 336.909\n",
            "INFO:tensorflow:loss = 0.24755883, step = 7600 (0.299 sec)\n",
            "INFO:tensorflow:global_step/sec: 358.537\n",
            "INFO:tensorflow:loss = 0.43889317, step = 7700 (0.273 sec)\n",
            "INFO:tensorflow:global_step/sec: 356.998\n",
            "INFO:tensorflow:loss = 0.37374124, step = 7800 (0.279 sec)\n",
            "INFO:tensorflow:global_step/sec: 358.469\n",
            "INFO:tensorflow:loss = 0.44095308, step = 7900 (0.279 sec)\n",
            "INFO:tensorflow:global_step/sec: 366.725\n",
            "INFO:tensorflow:loss = 0.45730123, step = 8000 (0.276 sec)\n",
            "INFO:tensorflow:global_step/sec: 350.926\n",
            "INFO:tensorflow:loss = 0.42384714, step = 8100 (0.280 sec)\n",
            "INFO:tensorflow:global_step/sec: 355.334\n",
            "INFO:tensorflow:loss = 0.43156305, step = 8200 (0.281 sec)\n",
            "INFO:tensorflow:global_step/sec: 355.313\n",
            "INFO:tensorflow:loss = 0.65226454, step = 8300 (0.287 sec)\n",
            "INFO:tensorflow:global_step/sec: 373.218\n",
            "INFO:tensorflow:loss = 0.43135276, step = 8400 (0.263 sec)\n",
            "INFO:tensorflow:global_step/sec: 349.483\n",
            "INFO:tensorflow:loss = 0.5343098, step = 8500 (0.306 sec)\n",
            "INFO:tensorflow:global_step/sec: 342.854\n",
            "INFO:tensorflow:loss = 0.5643192, step = 8600 (0.272 sec)\n",
            "INFO:tensorflow:global_step/sec: 358.906\n",
            "INFO:tensorflow:loss = 0.55042493, step = 8700 (0.279 sec)\n",
            "INFO:tensorflow:global_step/sec: 365.591\n",
            "INFO:tensorflow:loss = 0.72833765, step = 8800 (0.272 sec)\n",
            "INFO:tensorflow:global_step/sec: 347.247\n",
            "INFO:tensorflow:loss = 0.48319426, step = 8900 (0.296 sec)\n",
            "INFO:tensorflow:global_step/sec: 341.477\n",
            "INFO:tensorflow:loss = 0.7427756, step = 9000 (0.288 sec)\n",
            "INFO:tensorflow:global_step/sec: 354.763\n",
            "INFO:tensorflow:loss = 0.4863585, step = 9100 (0.278 sec)\n",
            "INFO:tensorflow:global_step/sec: 362.472\n",
            "INFO:tensorflow:loss = 0.9634361, step = 9200 (0.285 sec)\n",
            "INFO:tensorflow:global_step/sec: 343.738\n",
            "INFO:tensorflow:loss = 0.39478207, step = 9300 (0.289 sec)\n",
            "INFO:tensorflow:global_step/sec: 371.318\n",
            "INFO:tensorflow:loss = 0.56440836, step = 9400 (0.266 sec)\n",
            "INFO:tensorflow:global_step/sec: 368.036\n",
            "INFO:tensorflow:loss = 0.63774073, step = 9500 (0.275 sec)\n",
            "INFO:tensorflow:global_step/sec: 349.423\n",
            "INFO:tensorflow:loss = 0.63210267, step = 9600 (0.278 sec)\n",
            "INFO:tensorflow:global_step/sec: 354.349\n",
            "INFO:tensorflow:loss = 0.32401198, step = 9700 (0.284 sec)\n",
            "INFO:tensorflow:global_step/sec: 366.764\n",
            "INFO:tensorflow:loss = 0.27324998, step = 9800 (0.273 sec)\n",
            "INFO:tensorflow:global_step/sec: 368.457\n",
            "INFO:tensorflow:loss = 0.3510255, step = 9900 (0.273 sec)\n",
            "INFO:tensorflow:Calling checkpoint listeners before saving checkpoint 10000...\n",
            "INFO:tensorflow:Saving checkpoints for 10000 into /tmp/tmpqiz_9bu7/model.ckpt.\n",
            "INFO:tensorflow:Calling checkpoint listeners after saving checkpoint 10000...\n",
            "INFO:tensorflow:Loss for final step: 0.47066578.\n"
          ],
          "name": "stdout"
        },
        {
          "output_type": "execute_result",
          "data": {
            "text/plain": [
              "<tensorflow_estimator.python.estimator.canned.dnn.DNNClassifierV2 at 0x7f79247266d8>"
            ]
          },
          "metadata": {
            "tags": []
          },
          "execution_count": 14
        }
      ]
    },
    {
      "cell_type": "code",
      "metadata": {
        "scrolled": true,
        "id": "kpby5F-6oCn7",
        "colab_type": "code",
        "colab": {
          "base_uri": "https://localhost:8080/",
          "height": 241
        },
        "outputId": "cd7838b5-911e-48a8-cc2c-aac46579d4bd"
      },
      "source": [
        "#Getting the predictions on the test set\n",
        "pre_input_f = tf.compat.v1.estimator.inputs.pandas_input_fn(x=X_test,y=Y_test,shuffle=False)\n",
        "predictions = []\n",
        "for pred in list(model.predict(pre_input_f)):\n",
        "    predictions.append(pred['class_ids'])"
      ],
      "execution_count": 16,
      "outputs": [
        {
          "output_type": "stream",
          "text": [
            "INFO:tensorflow:Calling model_fn.\n",
            "WARNING:tensorflow:Layer dnn is casting an input tensor from dtype float64 to the layer's dtype of float32, which is new behavior in TensorFlow 2.  The layer has dtype float32 because its dtype defaults to floatx.\n",
            "\n",
            "If you intended to run this layer in float32, you can safely ignore this warning. If in doubt, this warning is likely only an issue if you are porting a TensorFlow 1.X model to TensorFlow 2.\n",
            "\n",
            "To change all layers to have dtype float64 by default, call `tf.keras.backend.set_floatx('float64')`. To change just this layer, pass dtype='float64' to the layer constructor. If you are the author of this layer, you can disable autocasting by passing autocast=False to the base Layer constructor.\n",
            "\n",
            "INFO:tensorflow:Done calling model_fn.\n",
            "INFO:tensorflow:Graph was finalized.\n",
            "INFO:tensorflow:Restoring parameters from /tmp/tmpqiz_9bu7/model.ckpt-10000\n",
            "INFO:tensorflow:Running local_init_op.\n",
            "INFO:tensorflow:Done running local_init_op.\n"
          ],
          "name": "stdout"
        }
      ]
    },
    {
      "cell_type": "code",
      "metadata": {
        "scrolled": true,
        "id": "Cuep1-7zoCoA",
        "colab_type": "code",
        "colab": {
          "base_uri": "https://localhost:8080/",
          "height": 343
        },
        "outputId": "291a2531-9e48-4666-f8ad-0357f1e4edca"
      },
      "source": [
        "#Displaying the evaluation result\n",
        "print(model.evaluate(input_fn=pre_input_f,steps=1000))"
      ],
      "execution_count": 17,
      "outputs": [
        {
          "output_type": "stream",
          "text": [
            "INFO:tensorflow:Calling model_fn.\n",
            "WARNING:tensorflow:Layer dnn is casting an input tensor from dtype float64 to the layer's dtype of float32, which is new behavior in TensorFlow 2.  The layer has dtype float32 because its dtype defaults to floatx.\n",
            "\n",
            "If you intended to run this layer in float32, you can safely ignore this warning. If in doubt, this warning is likely only an issue if you are porting a TensorFlow 1.X model to TensorFlow 2.\n",
            "\n",
            "To change all layers to have dtype float64 by default, call `tf.keras.backend.set_floatx('float64')`. To change just this layer, pass dtype='float64' to the layer constructor. If you are the author of this layer, you can disable autocasting by passing autocast=False to the base Layer constructor.\n",
            "\n",
            "INFO:tensorflow:Done calling model_fn.\n",
            "INFO:tensorflow:Starting evaluation at 2020-08-29T21:39:29Z\n",
            "INFO:tensorflow:Graph was finalized.\n",
            "INFO:tensorflow:Restoring parameters from /tmp/tmpqiz_9bu7/model.ckpt-10000\n",
            "INFO:tensorflow:Running local_init_op.\n",
            "INFO:tensorflow:Done running local_init_op.\n",
            "INFO:tensorflow:Inference Time : 0.77220s\n",
            "INFO:tensorflow:Finished evaluation at 2020-08-29-21:39:30\n",
            "INFO:tensorflow:Saving dict for global step 10000: accuracy = 0.7611833, accuracy_baseline = 0.7611833, auc = 0.83623934, auc_precision_recall = 0.5783347, average_loss = 0.43054774, global_step = 10000, label/mean = 0.23881666, loss = 0.4310738, precision = 0.0, prediction/mean = 0.22996187, recall = 0.0\n",
            "INFO:tensorflow:Saving 'checkpoint_path' summary for global step 10000: /tmp/tmpqiz_9bu7/model.ckpt-10000\n",
            "{'accuracy': 0.7611833, 'accuracy_baseline': 0.7611833, 'auc': 0.83623934, 'auc_precision_recall': 0.5783347, 'average_loss': 0.43054774, 'label/mean': 0.23881666, 'loss': 0.4310738, 'precision': 0.0, 'prediction/mean': 0.22996187, 'recall': 0.0, 'global_step': 10000}\n"
          ],
          "name": "stdout"
        }
      ]
    },
    {
      "cell_type": "code",
      "metadata": {
        "id": "yDwMSh4i--t_",
        "colab_type": "code",
        "colab": {}
      },
      "source": [
        ""
      ],
      "execution_count": null,
      "outputs": []
    }
  ]
}